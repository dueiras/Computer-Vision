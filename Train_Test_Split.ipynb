{
 "cells": [
  {
   "cell_type": "code",
   "execution_count": 1,
   "metadata": {},
   "outputs": [],
   "source": [
    "import numpy as np\n",
    "import random\n",
    "import os\n",
    "from glob import glob\n",
    "import pathlib\n",
    "from PIL import Image\n",
    "\n",
    "def img_train_test_split(img_dir, split_size=0.25):\n",
    "    \n",
    "    #Function that creates a new directory\n",
    "    def create_dir(path):\n",
    "        try:\n",
    "            os.mkdir(path)\n",
    "        except OSError:\n",
    "            print (\"Creation of the directory %s failed\" % path)\n",
    "        else:\n",
    "            print (\"Successfully created the directory %s \" % path)\n",
    "    \n",
    "    img_dir = pathlib.Path(img_dir)\n",
    "    CLASS_NAMES = np.array([item.name for item in img_dir.glob('*')])\n",
    "    print('Found {} classes:'.format(len(CLASS_NAMES)), CLASS_NAMES)\n",
    "    \n",
    "    train_path = os.path.join(img_dir, 'train')\n",
    "    test_path = os.path.join(img_dir, 'test')\n",
    "\n",
    "    create_dir(train_path)\n",
    "    create_dir(test_path)\n",
    "        \n",
    "    for class_name in CLASS_NAMES:    \n",
    "        original_class_path = os.path.join(img_dir, class_name) #the original folder countaining the images\n",
    "        train_class_path = os.path.join(train_path, class_name) \n",
    "        create_dir(train_class_path) #the folder where we'll store the images for training\n",
    "        num_images = len(os.listdir(original_class_path))\n",
    "        images = os.listdir(original_class_path)\n",
    "        for _ in range(int(num_images*(1-split_size))):\n",
    "            random_img_path = random.choice(images) #chooses a random image\n",
    "            images.remove(random_img_path) #remove the chosen image from the list\n",
    "            img_path = os.path.join(train_class_path, random_img_path)\n",
    "            img = Image.open(os.path.join(original_class_path, random_img_path))\n",
    "            if random_img_path not in os.listdir(train_class_path):\n",
    "                img.save(os.path.join(train_class_path, random_img_path), 'JPEG')\n",
    "                \n",
    "        test_class_path = os.path.join(test_path, class_name) \n",
    "        create_dir(test_class_path) #the folder where we'll store the images for training\n",
    "        for _ in range(num_images-int(num_images*(1-split_size))):\n",
    "            random_img_path = random.choice(images) #chooses a random image\n",
    "            images.remove(random_img_path) #remove the chosen image from the list\n",
    "            img_path = os.path.join(test_class_path, random_img_path)\n",
    "            img = Image.open(os.path.join(original_class_path, random_img_path))\n",
    "            if random_img_path not in os.listdir(test_class_path):\n",
    "                img.save(os.path.join(test_class_path, random_img_path), 'JPEG')"
   ]
  },
  {
   "cell_type": "code",
   "execution_count": null,
   "metadata": {},
   "outputs": [],
   "source": []
  }
 ],
 "metadata": {
  "kernelspec": {
   "display_name": "PythonAI",
   "language": "python",
   "name": "pythonai"
  },
  "language_info": {
   "codemirror_mode": {
    "name": "ipython",
    "version": 3
   },
   "file_extension": ".py",
   "mimetype": "text/x-python",
   "name": "python",
   "nbconvert_exporter": "python",
   "pygments_lexer": "ipython3",
   "version": "3.7.6"
  }
 },
 "nbformat": 4,
 "nbformat_minor": 4
}
